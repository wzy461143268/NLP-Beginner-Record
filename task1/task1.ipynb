{
 "cells": [
  {
   "cell_type": "code",
   "execution_count": 1,
   "metadata": {},
   "outputs": [],
   "source": [
    "import pandas as pd\n",
    "import numpy as np\n",
    "import matplotlib.pyplot as plt\n",
    "import seaborn as sns\n",
    "import random\n",
    "import re\n",
    "from tqdm import tqdm"
   ]
  },
  {
   "cell_type": "code",
   "execution_count": 2,
   "metadata": {},
   "outputs": [],
   "source": [
    "test_data = pd.read_csv('data/test.tsv',sep='\\t')\n",
    "train_data = pd.read_csv('data/train.tsv',sep='\\t')"
   ]
  },
  {
   "attachments": {},
   "cell_type": "markdown",
   "metadata": {},
   "source": [
    "词袋模型\n",
    "1、将数据进行划分，提取单词 \n",
    "2、将单词转换为向量\n",
    "3、将句子使用向量表示\n"
   ]
  },
  {
   "cell_type": "code",
   "execution_count": 3,
   "metadata": {},
   "outputs": [],
   "source": [
    "def BoW_tokenize(data):\n",
    "    words_set=set()\n",
    "    for sentence in data:\n",
    "        #sentence=re.sub(r'[^\\w\\s]',' ',sentence) #去除标点符号\n",
    "        words_set.update(sentence.split())\n",
    "    return words_set #return a set of words\n",
    "\n",
    "def BoW_vectorize(data,words_set):\n",
    "    vector_size=len(words_set)\n",
    "    feature_vector=np.zeros((len(data),vector_size),dtype=np.int8)\n",
    "    vector_map=dict(zip(words_set,range(vector_size)))\n",
    "    for sentence_index,sentence in enumerate(data):\n",
    "        #sentence=re.sub(r'[^\\w\\s]',' ',sentence) #去除标点符号\n",
    "        for word in sentence.split():\n",
    "            if word in words_set:\n",
    "                feature_vector[sentence_index,vector_map[word]]+=1\n",
    "    # 使用n维向量表示句子，每个维度表示一个单词，值为单词出现的次数\n",
    "    return feature_vector"
   ]
  },
  {
   "attachments": {},
   "cell_type": "markdown",
   "metadata": {},
   "source": [
    "使用Ngram模型，将句子转换为向量"
   ]
  },
  {
   "cell_type": "code",
   "execution_count": 4,
   "metadata": {},
   "outputs": [],
   "source": [
    "def Ng_tokenize(data , n=2):\n",
    "    words_set=set()\n",
    "    for sentence in data:\n",
    "        #sentence=re.sub(r'[^\\w\\s]',' ',sentence) # 去除标点符号\n",
    "        word_list=sentence.split()\n",
    "        for i in range(len(word_list)-n):\n",
    "            words_set.add(' '.join(word_list[i:i+n]))\n",
    "    \n",
    "    return words_set\n",
    "\n",
    "def Ng_vectorize(data,words_set,n=2):\n",
    "    vector_size=len(words_set)\n",
    "    feature_vector=np.zeros((len(data),vector_size),dtype=np.int8)\n",
    "    vector_map=dict(zip(words_set,range(vector_size)))\n",
    "    for sentence_index,sentence in enumerate(data):\n",
    "        #sentence=re.sub(r'[^\\w\\s]',' ',sentence) # 去除标点符号\n",
    "        word_list=sentence.split()\n",
    "        for i in range(len(word_list)-n):\n",
    "            if ' '.join(word_list[i:i+n]) in words_set:\n",
    "                feature_vector[sentence_index,vector_map[' '.join(word_list[i:i+n])]]+=1\n",
    "    return feature_vector"
   ]
  },
  {
   "attachments": {},
   "cell_type": "markdown",
   "metadata": {},
   "source": [
    "划分Train、Val数据集"
   ]
  },
  {
   "cell_type": "code",
   "execution_count": 5,
   "metadata": {},
   "outputs": [],
   "source": [
    "def train_val_split(X,y,val_rate=0.8):\n",
    "    X_size=X.shape[0]\n",
    "    train_size=int((1-val_rate)*X_size)\n",
    "    index = [i for i in range(X_size)] \n",
    "    # print(train_size)\n",
    "    random.shuffle(index)\n",
    "    train_X = X[index[0:train_size]]\n",
    "    train_y = y[index[0:train_size]]\n",
    "    val_X = X[index[train_size:]]\n",
    "    val_y = y[index[train_size:]]\n",
    "    # print(train_X.shape,val_X.shape,train_y.shape,val_y.shape)\n",
    "    return train_X,val_X,train_y,val_y"
   ]
  },
  {
   "cell_type": "code",
   "execution_count": 6,
   "metadata": {},
   "outputs": [],
   "source": [
    "def train(train_X,train_y,val_X,val_y,batchsize=32,lr=1e0,epoch_number=100,class_number=5):\n",
    "    iter_number=train_X.shape[0]//batchsize\n",
    "    weight=np.zeros((train_X.shape[1],class_number))\n",
    "    # 不同初始值的影响\n",
    "    # weight=np.random.normal(0,1,[train_X.shape[1],class_number])\n",
    "    train_loss_list=[]\n",
    "    test_loss_list=[]\n",
    "    for i in range(epoch_number):\n",
    "        train_loss=0\n",
    "        test_loss=0\n",
    "        for j in tqdm(range(iter_number)):\n",
    "            train_data=train_X[j*batchsize:j*batchsize+batchsize]\n",
    "            y_train=train_y[j*batchsize:j*batchsize+batchsize]\n",
    "            y=np.exp(train_data.dot(weight))   \n",
    "            y_hat=np.divide(y.T,np.sum(y,axis=1)).T\n",
    "            train_loss+= (-1/train_X.shape[0])*np.sum(np.multiply(y_train,np.log10(y_hat)))\n",
    "            # 每个batch权重更新一次\n",
    "            weight+=(lr/batchsize)*train_data.T.dot(y_train-y_hat)\n",
    "       \n",
    "        y=np.exp(val_X.dot(weight))   \n",
    "        y_hat=np.divide(y.T,np.sum(y,axis=1)).T\n",
    "        test_loss= (-1/val_X.shape[0])*np.sum(np.multiply(val_y,np.log10(y_hat)))\n",
    "        # print('train_loss:',train_loss,\" test_loss:\",test_loss)\n",
    "        train_loss_list.append(train_loss)\n",
    "        test_loss_list.append(test_loss)\n",
    "    \n",
    "    return train_loss_list,test_loss_list,weight"
   ]
  },
  {
   "cell_type": "code",
   "execution_count": 7,
   "metadata": {},
   "outputs": [],
   "source": [
    "def CreateFeature(ngram=2,analyzer='word'):\n",
    "    feature_set=BoW_tokenize(data=train_data['Phrase'].to_numpy())\n",
    "    X=BoW_vectorize(data=train_data['Phrase'].to_numpy(),words_set=feature_set)\n",
    "    test_X=BoW_vectorize(data=test_data['Phrase'].to_numpy(),words_set=feature_set)\n",
    "    return feature_set,X,test_X"
   ]
  },
  {
   "cell_type": "code",
   "execution_count": 8,
   "metadata": {},
   "outputs": [],
   "source": [
    "def drawpic(train_loss_list=[],test_loss_list=[],epoch_number=10,path='1.jpg'):\n",
    "    # make data\n",
    "    x = [i for i in range(epoch_number)]\n",
    "    # plot\n",
    "    fig, ax = plt.subplots()\n",
    "    ax.plot(x, train_loss_list, linewidth=2.0)\n",
    "    ax.plot(x, test_loss_list, linewidth=2.0)\n",
    "    plt.savefig(path)\n",
    "    plt.show()"
   ]
  },
  {
   "cell_type": "code",
   "execution_count": 9,
   "metadata": {},
   "outputs": [],
   "source": [
    "class_number=5\n",
    "y=train_data['Sentiment'].to_numpy()\n",
    "y_onehot=np.zeros((y.shape[0],class_number)).astype('int16')\n",
    "for i in range(y.shape[0]):\n",
    "    y_onehot[i,y[i]]+=1\n",
    "\n",
    "\n",
    "\n",
    "parameter_list=[\n",
    "    #{'ngram':2,'analyzer':'word','batchsize':32,\"lr\":1e0,'epoch_number':20,'val_rate':0.2},\n",
    "    #{'ngram':2,'analyzer':'word','batchsize':8,\"lr\":1e0,'epoch_number':20,'val_rate':0.2},\n",
    "    #{'ngram':2,'analyzer':'word','batchsize':128,\"lr\":1e0,'epoch_number':20,'val_rate':0.2},\n",
    "    #{'ngram':2,'analyzer':'word','batchsize':32,\"lr\":1e1,'epoch_number':20,'val_rate':0.2},\n",
    "    {'ngram':2,'analyzer':'word','batchsize':128,\"lr\":1e0,'epoch_number':40,'val_rate':0.2},\n",
    "\n",
    "]\n",
    "\n",
    "def flow(parameter_list):\n",
    "    for parameter_dict in parameter_list:\n",
    "        \n",
    "        ngram=parameter_dict['ngram']\n",
    "        analyzer=parameter_dict['analyzer']\n",
    "        batchsize=parameter_dict['batchsize']\n",
    "        lr=parameter_dict['lr']\n",
    "        epoch_number=parameter_dict['epoch_number']\n",
    "        val_rate=parameter_dict['val_rate']\n",
    "\n",
    "        \n",
    "        feature_set,X,test_X=CreateFeature(ngram=ngram,analyzer=analyzer)\n",
    "\n",
    "        train_X,val_X,train_y,val_y=train_val_split(X,y_onehot,val_rate=val_rate)\n",
    "        train_loss_list,test_loss_list,weight=train(train_X=train_X,train_y=train_y,val_X=val_X,val_y=val_y,batchsize=batchsize,lr=lr,epoch_number=epoch_number)\n",
    "        \n",
    "\n",
    "        y_temp=np.exp(val_X.dot(weight))   \n",
    "        y_temp=np.divide(y_temp.T,np.sum(y_temp,axis=1)).T\n",
    "        y_predict=np.array([np.argmax(i) for i in y_temp])\n",
    "        y_val=np.array([np.argmax(i) for i in val_y])\n",
    "\n",
    "        acc=np.sum(y_predict.astype('int')==y_val.astype('int'))/y_val.shape[0]\n",
    "        parameter_dict['acc']='%.4f' % acc\n",
    "        print('acc:',acc)\n",
    "\n",
    "        parameter_dict['best_train_loss']='%.4f' % np.min(train_loss_list) \n",
    "        parameter_dict['best_test_loss']='%.4f' % np.min(test_loss_list)\n",
    "        \n",
    "        print('train_loss:',parameter_dict['best_train_loss'],\" test_loss:\",parameter_dict['best_test_loss'])\n",
    "      \n",
    "        path='pic/ngram_{}-analyzer_{}-lr_{}-batchsize_{}-epoch_number_{}-val_rate_{}.jpg'.format(str(ngram),str(analyzer),str(lr),str(batchsize),str(epoch_number),str(val_rate))\n",
    "        parameter_dict['path']=path\n",
    "        print(path)\n",
    "        drawpic(train_loss_list=train_loss_list,test_loss_list=test_loss_list,epoch_number=epoch_number,path=path)\n",
    "    return parameter_list"
   ]
  },
  {
   "cell_type": "code",
   "execution_count": 10,
   "metadata": {},
   "outputs": [
    {
     "name": "stderr",
     "output_type": "stream",
     "text": [
      "100%|██████████| 975/975 [00:10<00:00, 90.41it/s]\n",
      "100%|██████████| 975/975 [00:11<00:00, 87.71it/s]\n",
      "100%|██████████| 975/975 [00:10<00:00, 90.70it/s]\n",
      "100%|██████████| 975/975 [00:10<00:00, 91.40it/s]\n",
      "100%|██████████| 975/975 [00:10<00:00, 91.36it/s]\n",
      "100%|██████████| 975/975 [00:10<00:00, 91.32it/s]\n",
      "100%|██████████| 975/975 [00:10<00:00, 90.99it/s]\n",
      "100%|██████████| 975/975 [00:10<00:00, 91.99it/s]\n",
      "100%|██████████| 975/975 [00:10<00:00, 90.90it/s]\n",
      "100%|██████████| 975/975 [00:10<00:00, 91.73it/s]\n",
      "100%|██████████| 975/975 [00:10<00:00, 91.37it/s]\n",
      "100%|██████████| 975/975 [00:10<00:00, 91.21it/s]\n",
      "100%|██████████| 975/975 [00:10<00:00, 91.10it/s]\n",
      "100%|██████████| 975/975 [00:10<00:00, 91.54it/s]\n",
      "100%|██████████| 975/975 [00:10<00:00, 91.91it/s]\n",
      "100%|██████████| 975/975 [00:10<00:00, 90.80it/s]\n",
      "100%|██████████| 975/975 [00:10<00:00, 90.85it/s]\n",
      "100%|██████████| 975/975 [00:10<00:00, 89.24it/s]\n",
      "100%|██████████| 975/975 [00:10<00:00, 90.83it/s]\n",
      "100%|██████████| 975/975 [00:10<00:00, 91.03it/s]\n",
      "100%|██████████| 975/975 [00:10<00:00, 91.44it/s]\n",
      "100%|██████████| 975/975 [00:10<00:00, 91.14it/s]\n",
      "100%|██████████| 975/975 [00:10<00:00, 91.76it/s]\n",
      "100%|██████████| 975/975 [00:10<00:00, 90.36it/s]\n",
      "100%|██████████| 975/975 [00:10<00:00, 91.69it/s]\n",
      "100%|██████████| 975/975 [00:10<00:00, 91.55it/s]\n",
      "100%|██████████| 975/975 [00:10<00:00, 91.23it/s]\n",
      "100%|██████████| 975/975 [00:10<00:00, 91.52it/s]\n",
      "100%|██████████| 975/975 [00:10<00:00, 91.54it/s]\n",
      "100%|██████████| 975/975 [00:10<00:00, 89.29it/s]\n",
      "100%|██████████| 975/975 [00:11<00:00, 88.05it/s]\n",
      "100%|██████████| 975/975 [00:10<00:00, 91.20it/s]\n",
      "100%|██████████| 975/975 [00:10<00:00, 90.52it/s]\n",
      "100%|██████████| 975/975 [00:10<00:00, 90.08it/s]\n",
      "100%|██████████| 975/975 [00:10<00:00, 91.08it/s]\n",
      "100%|██████████| 975/975 [00:10<00:00, 91.55it/s]\n",
      "100%|██████████| 975/975 [00:10<00:00, 91.29it/s]\n",
      "100%|██████████| 975/975 [00:10<00:00, 91.18it/s]\n",
      "100%|██████████| 975/975 [00:10<00:00, 91.48it/s]\n",
      "100%|██████████| 975/975 [00:10<00:00, 90.39it/s]\n"
     ]
    },
    {
     "name": "stdout",
     "output_type": "stream",
     "text": [
      "acc: 0.5484108676150199\n",
      "train_loss: 0.4391  test_loss: 0.5181\n",
      "pic/ngram_2-analyzer_word-lr_1.0-batchsize_128-epoch_number_40-val_rate_0.2.jpg\n"
     ]
    },
    {
     "data": {
      "image/png": "[encoded data removed]",
      "text/plain": [
       "<Figure size 640x480 with 1 Axes>"
      ]
     },
     "metadata": {},
     "output_type": "display_data"
    }
   ],
   "source": [
    "parameter_list=flow(parameter_list)"
   ]
  }
 ],
 "metadata": {
  "kernelspec": {
   "display_name": "nlp-beginner",
   "language": "python",
   "name": "python3"
  },
  "language_info": {
   "codemirror_mode": {
    "name": "ipython",
    "version": 3
   },
   "file_extension": ".py",
   "mimetype": "text/x-python",
   "name": "python",
   "nbconvert_exporter": "python",
   "pygments_lexer": "ipython3",
   "version": "3.10.9"
  },
  "orig_nbformat": 4,
  "vscode": {
   "interpreter": {
    "hash": "4bddf01784dea367de46181483d8c35a376c49ea81228917c74ccd168d430418"
   }
  }
 },
 "nbformat": 4,
 "nbformat_minor": 2
}
